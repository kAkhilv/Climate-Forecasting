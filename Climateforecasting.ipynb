{
 "cells": [
  {
   "cell_type": "code",
   "execution_count": 1,
   "id": "4faed7ff",
   "metadata": {},
   "outputs": [
    {
     "name": "stderr",
     "output_type": "stream",
     "text": [
      "2023-06-07 19:47:17.297034: I tensorflow/core/platform/cpu_feature_guard.cc:193] This TensorFlow binary is optimized with oneAPI Deep Neural Network Library (oneDNN) to use the following CPU instructions in performance-critical operations:  SSE4.1 SSE4.2 AVX AVX2 FMA\n",
      "To enable them in other operations, rebuild TensorFlow with the appropriate compiler flags.\n"
     ]
    }
   ],
   "source": [
    "import numpy as np\n",
    "import tensorflow as tf\n",
    "import pandas as pd\n",
    "import matplotlib.pyplot as plt"
   ]
  },
  {
   "cell_type": "code",
   "execution_count": 3,
   "id": "d38d7c1e",
   "metadata": {},
   "outputs": [
    {
     "name": "stdout",
     "output_type": "stream",
     "text": [
      "<class 'pandas.core.frame.DataFrame'>\n",
      "RangeIndex: 420551 entries, 0 to 420550\n",
      "Data columns (total 15 columns):\n",
      " #   Column           Non-Null Count   Dtype  \n",
      "---  ------           --------------   -----  \n",
      " 0   Date Time        420551 non-null  object \n",
      " 1   p (mbar)         420551 non-null  float64\n",
      " 2   T (degC)         420551 non-null  float64\n",
      " 3   Tpot (K)         420551 non-null  float64\n",
      " 4   Tdew (degC)      420551 non-null  float64\n",
      " 5   rh (%)           420551 non-null  float64\n",
      " 6   VPmax (mbar)     420551 non-null  float64\n",
      " 7   VPact (mbar)     420551 non-null  float64\n",
      " 8   VPdef (mbar)     420551 non-null  float64\n",
      " 9   sh (g/kg)        420551 non-null  float64\n",
      " 10  H2OC (mmol/mol)  420551 non-null  float64\n",
      " 11  rho (g/m**3)     420551 non-null  float64\n",
      " 12  wv (m/s)         420551 non-null  float64\n",
      " 13  max. wv (m/s)    420551 non-null  float64\n",
      " 14  wd (deg)         420551 non-null  float64\n",
      "dtypes: float64(14), object(1)\n",
      "memory usage: 48.1+ MB\n"
     ]
    }
   ],
   "source": [
    "# Load the dataset\n",
    "\n",
    "df = pd.read_csv('jena_climate_2009_2016.csv')\n",
    "df.head()\n",
    "df.info()"
   ]
  },
  {
   "cell_type": "code",
   "execution_count": 6,
   "id": "3a7db274",
   "metadata": {},
   "outputs": [
    {
     "data": {
      "text/html": [
       "<div>\n",
       "<style scoped>\n",
       "    .dataframe tbody tr th:only-of-type {\n",
       "        vertical-align: middle;\n",
       "    }\n",
       "\n",
       "    .dataframe tbody tr th {\n",
       "        vertical-align: top;\n",
       "    }\n",
       "\n",
       "    .dataframe thead th {\n",
       "        text-align: right;\n",
       "    }\n",
       "</style>\n",
       "<table border=\"1\" class=\"dataframe\">\n",
       "  <thead>\n",
       "    <tr style=\"text-align: right;\">\n",
       "      <th></th>\n",
       "      <th>Date Time</th>\n",
       "      <th>p (mbar)</th>\n",
       "      <th>T (degC)</th>\n",
       "      <th>Tpot (K)</th>\n",
       "      <th>Tdew (degC)</th>\n",
       "      <th>rh (%)</th>\n",
       "      <th>VPmax (mbar)</th>\n",
       "      <th>VPact (mbar)</th>\n",
       "      <th>VPdef (mbar)</th>\n",
       "      <th>sh (g/kg)</th>\n",
       "      <th>H2OC (mmol/mol)</th>\n",
       "      <th>rho (g/m**3)</th>\n",
       "      <th>wv (m/s)</th>\n",
       "      <th>max. wv (m/s)</th>\n",
       "      <th>wd (deg)</th>\n",
       "    </tr>\n",
       "  </thead>\n",
       "  <tbody>\n",
       "    <tr>\n",
       "      <th>1</th>\n",
       "      <td>01.01.2009 00:20:00</td>\n",
       "      <td>996.57</td>\n",
       "      <td>-8.41</td>\n",
       "      <td>265.01</td>\n",
       "      <td>-9.28</td>\n",
       "      <td>93.4</td>\n",
       "      <td>3.23</td>\n",
       "      <td>3.02</td>\n",
       "      <td>0.21</td>\n",
       "      <td>1.89</td>\n",
       "      <td>3.03</td>\n",
       "      <td>1309.80</td>\n",
       "      <td>0.72</td>\n",
       "      <td>1.50</td>\n",
       "      <td>136.1</td>\n",
       "    </tr>\n",
       "    <tr>\n",
       "      <th>7</th>\n",
       "      <td>01.01.2009 01:20:00</td>\n",
       "      <td>996.50</td>\n",
       "      <td>-7.62</td>\n",
       "      <td>265.81</td>\n",
       "      <td>-8.36</td>\n",
       "      <td>94.4</td>\n",
       "      <td>3.44</td>\n",
       "      <td>3.25</td>\n",
       "      <td>0.19</td>\n",
       "      <td>2.03</td>\n",
       "      <td>3.26</td>\n",
       "      <td>1305.69</td>\n",
       "      <td>0.19</td>\n",
       "      <td>0.50</td>\n",
       "      <td>118.6</td>\n",
       "    </tr>\n",
       "    <tr>\n",
       "      <th>13</th>\n",
       "      <td>01.01.2009 02:20:00</td>\n",
       "      <td>996.74</td>\n",
       "      <td>-8.83</td>\n",
       "      <td>264.58</td>\n",
       "      <td>-9.68</td>\n",
       "      <td>93.5</td>\n",
       "      <td>3.13</td>\n",
       "      <td>2.92</td>\n",
       "      <td>0.20</td>\n",
       "      <td>1.83</td>\n",
       "      <td>2.93</td>\n",
       "      <td>1312.15</td>\n",
       "      <td>0.36</td>\n",
       "      <td>0.63</td>\n",
       "      <td>184.8</td>\n",
       "    </tr>\n",
       "    <tr>\n",
       "      <th>19</th>\n",
       "      <td>01.01.2009 03:20:00</td>\n",
       "      <td>996.97</td>\n",
       "      <td>-8.94</td>\n",
       "      <td>264.45</td>\n",
       "      <td>-9.82</td>\n",
       "      <td>93.3</td>\n",
       "      <td>3.10</td>\n",
       "      <td>2.89</td>\n",
       "      <td>0.21</td>\n",
       "      <td>1.81</td>\n",
       "      <td>2.90</td>\n",
       "      <td>1313.01</td>\n",
       "      <td>0.10</td>\n",
       "      <td>0.63</td>\n",
       "      <td>115.3</td>\n",
       "    </tr>\n",
       "    <tr>\n",
       "      <th>25</th>\n",
       "      <td>01.01.2009 04:20:00</td>\n",
       "      <td>997.11</td>\n",
       "      <td>-9.49</td>\n",
       "      <td>263.89</td>\n",
       "      <td>-10.54</td>\n",
       "      <td>92.0</td>\n",
       "      <td>2.97</td>\n",
       "      <td>2.73</td>\n",
       "      <td>0.24</td>\n",
       "      <td>1.71</td>\n",
       "      <td>2.74</td>\n",
       "      <td>1316.02</td>\n",
       "      <td>0.34</td>\n",
       "      <td>0.75</td>\n",
       "      <td>159.7</td>\n",
       "    </tr>\n",
       "  </tbody>\n",
       "</table>\n",
       "</div>"
      ],
      "text/plain": [
       "              Date Time  p (mbar)  T (degC)  Tpot (K)  Tdew (degC)  rh (%)  \\\n",
       "1   01.01.2009 00:20:00    996.57     -8.41    265.01        -9.28    93.4   \n",
       "7   01.01.2009 01:20:00    996.50     -7.62    265.81        -8.36    94.4   \n",
       "13  01.01.2009 02:20:00    996.74     -8.83    264.58        -9.68    93.5   \n",
       "19  01.01.2009 03:20:00    996.97     -8.94    264.45        -9.82    93.3   \n",
       "25  01.01.2009 04:20:00    997.11     -9.49    263.89       -10.54    92.0   \n",
       "\n",
       "    VPmax (mbar)  VPact (mbar)  VPdef (mbar)  sh (g/kg)  H2OC (mmol/mol)  \\\n",
       "1           3.23          3.02          0.21       1.89             3.03   \n",
       "7           3.44          3.25          0.19       2.03             3.26   \n",
       "13          3.13          2.92          0.20       1.83             2.93   \n",
       "19          3.10          2.89          0.21       1.81             2.90   \n",
       "25          2.97          2.73          0.24       1.71             2.74   \n",
       "\n",
       "    rho (g/m**3)  wv (m/s)  max. wv (m/s)  wd (deg)  \n",
       "1        1309.80      0.72           1.50     136.1  \n",
       "7        1305.69      0.19           0.50     118.6  \n",
       "13       1312.15      0.36           0.63     184.8  \n",
       "19       1313.01      0.10           0.63     115.3  \n",
       "25       1316.02      0.34           0.75     159.7  "
      ]
     },
     "execution_count": 6,
     "metadata": {},
     "output_type": "execute_result"
    }
   ],
   "source": [
    "# Use the data for every hour instead of every 10 mins for size reduction\n",
    "df_short = df[1::6] #Select every 6th datapoint\n",
    "df_short.head()"
   ]
  },
  {
   "cell_type": "code",
   "execution_count": 8,
   "id": "84918015",
   "metadata": {},
   "outputs": [
    {
     "data": {
      "text/plain": [
       "<Axes: xlabel='Date Time'>"
      ]
     },
     "execution_count": 8,
     "metadata": {},
     "output_type": "execute_result"
    },
    {
     "data": {
      "image/png": "[encoded data removed]",
      "text/plain": [
       "<Figure size 640x480 with 1 Axes>"
      ]
     },
     "metadata": {},
     "output_type": "display_data"
    }
   ],
   "source": [
    "# Convert Time as index of the dataframe\n",
    "df_short.index = pd.to_datetime(df_short['Date Time'], format='%d.%m.%Y %H:%M:%S')\n",
    "# Plot to visualize the variables. alternatively create a widget to interact\n",
    "df_short['T (degC)'].plot()"
   ]
  },
  {
   "cell_type": "code",
   "execution_count": 38,
   "id": "499c0bc4",
   "metadata": {},
   "outputs": [],
   "source": [
    "# Function to create sliding windows for creating a supervised learning method\n",
    "\n",
    "def df_to_window(df, window_size=5):\n",
    "    df_as_np = df.to_numpy()\n",
    "    X = np.lib.stride_tricks.sliding_window_view(df_as_np, window_shape=(window_size, df_as_np.shape[1]))\n",
    "    y = df_as_np[window_size:]\n",
    "    return X, y"
   ]
  },
  {
   "cell_type": "code",
   "execution_count": 39,
   "id": "f669c5b3",
   "metadata": {},
   "outputs": [
    {
     "data": {
      "text/plain": [
       "((70088, 1, 5, 15), (70087, 15))"
      ]
     },
     "execution_count": 39,
     "metadata": {},
     "output_type": "execute_result"
    }
   ],
   "source": [
    "X,y = df_to_window(df_short, window_size = 5)\n",
    "X.shape, y.shape"
   ]
  },
  {
   "cell_type": "code",
   "execution_count": null,
   "id": "47f1a413",
   "metadata": {},
   "outputs": [],
   "source": []
  }
 ],
 "metadata": {
  "kernelspec": {
   "display_name": "Python 3 (ipykernel)",
   "language": "python",
   "name": "python3"
  },
  "language_info": {
   "codemirror_mode": {
    "name": "ipython",
    "version": 3
   },
   "file_extension": ".py",
   "mimetype": "text/x-python",
   "name": "python",
   "nbconvert_exporter": "python",
   "pygments_lexer": "ipython3",
   "version": "3.10.11"
  }
 },
 "nbformat": 4,
 "nbformat_minor": 5
}
